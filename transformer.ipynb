{
 "cells": [
  {
   "cell_type": "code",
   "execution_count": 2,
   "metadata": {},
   "outputs": [],
   "source": [
    "# importing necessary libraries\n",
    "\n",
    "import torch\n",
    "import torch.nn as nn\n",
    "import torch.optim as optim\n",
    "import torch.utils.data as data\n",
    "import math\n",
    "import copy\n",
    "from tqdm import tqdm\n",
    "import pandas as pd\n",
    "import numpy as np\n",
    "import re\n",
    "import tensorflow as tf\n",
    "import seaborn as sns\n",
    "import matplotlib.pyplot as plt\n",
    "from tensorflow.keras.preprocessing.text import Tokenizer\n",
    "from tensorflow.keras.preprocessing.sequence import pad_sequences\n",
    "import warnings\n",
    "warnings.filterwarnings(\"ignore\")\n",
    "# import fasttext\n",
    "# import string\n",
    "# from string import digits\n",
    "import os\n",
    "os.environ[\"CUDA_VISIBLE_DEVICES\"] = \"0\""
   ]
  },
  {
   "cell_type": "markdown",
   "metadata": {},
   "source": [
    "## Data Preperation :"
   ]
  },
  {
   "cell_type": "code",
   "execution_count": 3,
   "metadata": {},
   "outputs": [],
   "source": [
    "# dataset consist of five rows\n",
    "# each row consist of english sentence along with its french translation\n",
    "\n",
    "train_data_corpus = [('where did you put your key ?', ' où est-ce tu as mis ta clé  ? '),\n",
    "('you missed a spot .', 'tu as loupé une tache . '),\n",
    "(\"i think we're being followed .\", ' je pense que nous sommes suivis . '),\n",
    "('i bought a cactus .', \" j'ai acheté un cactus .\"), \n",
    "('i have more than enough .', \" j'en ai plus que marre . \") ]"
   ]
  },
  {
   "cell_type": "code",
   "execution_count": 4,
   "metadata": {},
   "outputs": [],
   "source": [
    "# create a dataframe using list of sentences\n",
    "\n",
    "train_data = pd.DataFrame(train_data_corpus,columns=['eng_sent','french_sent'])"
   ]
  },
  {
   "cell_type": "code",
   "execution_count": 5,
   "metadata": {},
   "outputs": [
    {
     "data": {
      "text/html": [
       "<div>\n",
       "<style scoped>\n",
       "    .dataframe tbody tr th:only-of-type {\n",
       "        vertical-align: middle;\n",
       "    }\n",
       "\n",
       "    .dataframe tbody tr th {\n",
       "        vertical-align: top;\n",
       "    }\n",
       "\n",
       "    .dataframe thead th {\n",
       "        text-align: right;\n",
       "    }\n",
       "</style>\n",
       "<table border=\"1\" class=\"dataframe\">\n",
       "  <thead>\n",
       "    <tr style=\"text-align: right;\">\n",
       "      <th></th>\n",
       "      <th>eng_sent</th>\n",
       "      <th>french_sent</th>\n",
       "    </tr>\n",
       "  </thead>\n",
       "  <tbody>\n",
       "    <tr>\n",
       "      <th>0</th>\n",
       "      <td>where did you put your key ?</td>\n",
       "      <td>où est-ce tu as mis ta clé  ?</td>\n",
       "    </tr>\n",
       "    <tr>\n",
       "      <th>1</th>\n",
       "      <td>you missed a spot .</td>\n",
       "      <td>tu as loupé une tache .</td>\n",
       "    </tr>\n",
       "    <tr>\n",
       "      <th>2</th>\n",
       "      <td>i think we're being followed .</td>\n",
       "      <td>je pense que nous sommes suivis .</td>\n",
       "    </tr>\n",
       "    <tr>\n",
       "      <th>3</th>\n",
       "      <td>i bought a cactus .</td>\n",
       "      <td>j'ai acheté un cactus .</td>\n",
       "    </tr>\n",
       "    <tr>\n",
       "      <th>4</th>\n",
       "      <td>i have more than enough .</td>\n",
       "      <td>j'en ai plus que marre .</td>\n",
       "    </tr>\n",
       "  </tbody>\n",
       "</table>\n",
       "</div>"
      ],
      "text/plain": [
       "                         eng_sent                          french_sent\n",
       "0    where did you put your key ?       où est-ce tu as mis ta clé  ? \n",
       "1             you missed a spot .             tu as loupé une tache . \n",
       "2  i think we're being followed .   je pense que nous sommes suivis . \n",
       "3             i bought a cactus .              j'ai acheté un cactus .\n",
       "4       i have more than enough .            j'en ai plus que marre . "
      ]
     },
     "execution_count": 5,
     "metadata": {},
     "output_type": "execute_result"
    }
   ],
   "source": [
    "# glimpse of dataset\n",
    "\n",
    "train_data"
   ]
  },
  {
   "cell_type": "markdown",
   "metadata": {},
   "source": [
    "### Data cleaning:"
   ]
  },
  {
   "cell_type": "code",
   "execution_count": 6,
   "metadata": {},
   "outputs": [],
   "source": [
    "# # data cleaning\n",
    "\n",
    "# # Lowercase all characters\n",
    "# train_data['eng_sent']=train_data['eng_sent'].apply(lambda x: x.lower())\n",
    "\n",
    "# train_data['eng_sent'] = train_data['eng_sent'].apply(lambda x: re.sub(r\"won\\'t\", \"will not\", x))\n",
    "# train_data['eng_sent'] = train_data['eng_sent'].apply(lambda x: re.sub(r\"can\\'t\", \"can not\", x))\n",
    "\n",
    "# # general\n",
    "# train_data['eng_sent'] = train_data['eng_sent'].apply(lambda x: re.sub(r\"n\\'t\", \" not\", x))\n",
    "# train_data['eng_sent'] = train_data['eng_sent'].apply(lambda x: re.sub(r\"\\'re\", \" are\", x))\n",
    "# train_data['eng_sent'] = train_data['eng_sent'].apply(lambda x: re.sub(r\"\\'s\", \" is\", x))\n",
    "# train_data['eng_sent'] = train_data['eng_sent'].apply(lambda x: re.sub(r\"\\'d\", \" would\", x))\n",
    "# train_data['eng_sent'] = train_data['eng_sent'].apply(lambda x: re.sub(r\"\\'ll\", \" will\", x))\n",
    "# train_data['eng_sent'] = train_data['eng_sent'].apply(lambda x: re.sub(r\"\\'t\", \" not\", x))\n",
    "# train_data['eng_sent'] = train_data['eng_sent'].apply(lambda x: re.sub(r\"\\'ve\", \" have\", x))\n",
    "# train_data['eng_sent'] = train_data['eng_sent'].apply(lambda x: re.sub(r\"\\'m\", \" am\", x))\n",
    "\n",
    "# # Remove quotes\n",
    "# train_data['eng_sent']=train_data['eng_sent'].apply(lambda x: re.sub(\"'\", '', x))\n",
    "\n",
    "train_data['eng_sent'] = train_data['eng_sent'].apply(lambda x: re.sub('[!.?]',\"\",x))\n",
    "train_data['french_sent'] = train_data['french_sent'].apply(lambda x: re.sub('[!.?]',\"\",x))"
   ]
  },
  {
   "cell_type": "code",
   "execution_count": 7,
   "metadata": {},
   "outputs": [],
   "source": [
    "# we specify start of sentence with '<start>'\n",
    "# we specify end of sentence with '<end>'\n",
    "\n",
    "train_data['french_sent'] = '<start> ' + train_data.french_sent \n",
    "train_data['french_sent'] = train_data.french_sent + ' <end>' "
   ]
  },
  {
   "cell_type": "code",
   "execution_count": 8,
   "metadata": {},
   "outputs": [
    {
     "data": {
      "text/html": [
       "<div>\n",
       "<style scoped>\n",
       "    .dataframe tbody tr th:only-of-type {\n",
       "        vertical-align: middle;\n",
       "    }\n",
       "\n",
       "    .dataframe tbody tr th {\n",
       "        vertical-align: top;\n",
       "    }\n",
       "\n",
       "    .dataframe thead th {\n",
       "        text-align: right;\n",
       "    }\n",
       "</style>\n",
       "<table border=\"1\" class=\"dataframe\">\n",
       "  <thead>\n",
       "    <tr style=\"text-align: right;\">\n",
       "      <th></th>\n",
       "      <th>eng_sent</th>\n",
       "      <th>french_sent</th>\n",
       "    </tr>\n",
       "  </thead>\n",
       "  <tbody>\n",
       "    <tr>\n",
       "      <th>0</th>\n",
       "      <td>where did you put your key</td>\n",
       "      <td>&lt;start&gt;  où est-ce tu as mis ta clé    &lt;end&gt;</td>\n",
       "    </tr>\n",
       "    <tr>\n",
       "      <th>1</th>\n",
       "      <td>you missed a spot</td>\n",
       "      <td>&lt;start&gt; tu as loupé une tache   &lt;end&gt;</td>\n",
       "    </tr>\n",
       "    <tr>\n",
       "      <th>2</th>\n",
       "      <td>i think we're being followed</td>\n",
       "      <td>&lt;start&gt;  je pense que nous sommes suivis   &lt;end&gt;</td>\n",
       "    </tr>\n",
       "    <tr>\n",
       "      <th>3</th>\n",
       "      <td>i bought a cactus</td>\n",
       "      <td>&lt;start&gt;  j'ai acheté un cactus  &lt;end&gt;</td>\n",
       "    </tr>\n",
       "    <tr>\n",
       "      <th>4</th>\n",
       "      <td>i have more than enough</td>\n",
       "      <td>&lt;start&gt;  j'en ai plus que marre   &lt;end&gt;</td>\n",
       "    </tr>\n",
       "  </tbody>\n",
       "</table>\n",
       "</div>"
      ],
      "text/plain": [
       "                        eng_sent  \\\n",
       "0    where did you put your key    \n",
       "1             you missed a spot    \n",
       "2  i think we're being followed    \n",
       "3             i bought a cactus    \n",
       "4       i have more than enough    \n",
       "\n",
       "                                        french_sent  \n",
       "0      <start>  où est-ce tu as mis ta clé    <end>  \n",
       "1             <start> tu as loupé une tache   <end>  \n",
       "2  <start>  je pense que nous sommes suivis   <end>  \n",
       "3             <start>  j'ai acheté un cactus  <end>  \n",
       "4           <start>  j'en ai plus que marre   <end>  "
      ]
     },
     "execution_count": 8,
     "metadata": {},
     "output_type": "execute_result"
    }
   ],
   "source": [
    "# dataset after preprocessing\n",
    "\n",
    "train_data"
   ]
  },
  {
   "cell_type": "code",
   "execution_count": 9,
   "metadata": {},
   "outputs": [],
   "source": [
    "# Tokenization on data\n",
    "\n",
    "token_eng = Tokenizer()\n",
    "token_eng.fit_on_texts(train_data['eng_sent'].values)\n",
    "token_french = Tokenizer(filters='')\n",
    "token_french.fit_on_texts(train_data['french_sent'].values)"
   ]
  },
  {
   "cell_type": "code",
   "execution_count": 10,
   "metadata": {
    "scrolled": true
   },
   "outputs": [
    {
     "data": {
      "text/plain": [
       "{'i': 1,\n",
       " 'you': 2,\n",
       " 'a': 3,\n",
       " 'where': 4,\n",
       " 'did': 5,\n",
       " 'put': 6,\n",
       " 'your': 7,\n",
       " 'key': 8,\n",
       " 'missed': 9,\n",
       " 'spot': 10,\n",
       " 'think': 11,\n",
       " \"we're\": 12,\n",
       " 'being': 13,\n",
       " 'followed': 14,\n",
       " 'bought': 15,\n",
       " 'cactus': 16,\n",
       " 'have': 17,\n",
       " 'more': 18,\n",
       " 'than': 19,\n",
       " 'enough': 20}"
      ]
     },
     "execution_count": 10,
     "metadata": {},
     "output_type": "execute_result"
    }
   ],
   "source": [
    "# have a look at words in eng vocab\n",
    "\n",
    "token_eng.word_index"
   ]
  },
  {
   "cell_type": "code",
   "execution_count": 11,
   "metadata": {},
   "outputs": [
    {
     "name": "stdout",
     "output_type": "stream",
     "text": [
      "Vocab size of english is 20\n",
      "****************************************************************************************************\n",
      "Vocab size of french is 26\n"
     ]
    }
   ],
   "source": [
    "# vocab size for given dataset\n",
    "\n",
    "vocab_size_eng=len(token_eng.word_index.keys())\n",
    "print('Vocab size of english is',vocab_size_eng)\n",
    "print(\"*\"*100)\n",
    "vocab_size_french=len(token_french.word_index.keys())\n",
    "print('Vocab size of french is',vocab_size_french)"
   ]
  },
  {
   "cell_type": "markdown",
   "metadata": {},
   "source": [
    "###  Data analysis :"
   ]
  },
  {
   "cell_type": "code",
   "execution_count": 12,
   "metadata": {},
   "outputs": [
    {
     "data": {
      "image/png": "[encoded data removed]",
      "text/plain": [
       "<Figure size 432x288 with 1 Axes>"
      ]
     },
     "metadata": {
      "needs_background": "light"
     },
     "output_type": "display_data"
    }
   ],
   "source": [
    "# lets check length of senetence\n",
    "\n",
    "train_data['french_len'] = train_data['french_sent'].apply(lambda x: len(x.split()))\n",
    "train_data['english_len'] = train_data['eng_sent'].apply(lambda x: len(x.split()))\n",
    "\n",
    "sns.histplot(train_data.english_len, bins=5)\n",
    "plt.show()"
   ]
  },
  {
   "cell_type": "code",
   "execution_count": 13,
   "metadata": {},
   "outputs": [
    {
     "name": "stdout",
     "output_type": "stream",
     "text": [
      "10 Quantile is 4.0\n",
      "20 Quantile is 4.0\n",
      "30 Quantile is 4.2\n",
      "40 Quantile is 4.6\n",
      "50 Quantile is 5.0\n",
      "60 Quantile is 5.0\n",
      "70 Quantile is 5.0\n",
      "80 Quantile is 5.2\n",
      "90 Quantile is 5.6\n",
      "100 Quantile is 6.0\n"
     ]
    }
   ],
   "source": [
    "# we can identify the length of text in percentile\n",
    "for i in np.arange(0.1,1.1,0.1):\n",
    "    print('{0} Quantile is {1}'.format(int(i*100),np.quantile(train_data.english_len, i)))"
   ]
  },
  {
   "cell_type": "code",
   "execution_count": 14,
   "metadata": {},
   "outputs": [],
   "source": [
    "# convert text to numbers\n",
    "\n",
    "max_len = 6\n",
    "\n",
    "# text to sequence\n",
    "\n",
    "train_eng = token_eng.texts_to_sequences(train_data.eng_sent)\n",
    "train_french = token_french.texts_to_sequences(train_data.french_sent)\n",
    "\n",
    "# padding\n",
    "\n",
    "\n",
    "train_eng_seq = pad_sequences(train_eng, maxlen=max_len, padding='post', dtype='int32')\n",
    "train_french_seq = pad_sequences(train_french, maxlen=max_len, padding='post', dtype='int32')\n",
    "\n",
    "#convert it to tensor \n",
    "src_data = torch.tensor(train_eng_seq).to(torch.int64)\n",
    "tgt_data = torch.tensor(train_french_seq).to(torch.int64)"
   ]
  },
  {
   "cell_type": "markdown",
   "metadata": {},
   "source": [
    "## Transformer model :"
   ]
  },
  {
   "attachments": {
    "attention_research_1-727x1024.webp": {
     "image/webp": "[encoded data removed]"
    }
   },
   "cell_type": "markdown",
   "metadata": {},
   "source": [
    "![attention_research_1-727x1024.webp](attachment:attention_research_1-727x1024.webp)"
   ]
  },
  {
   "attachments": {
    "1_ETe4WrKJ1lS1MKDgBPIM0g.webp": {
     "image/webp": "[encoded data removed]"
    }
   },
   "cell_type": "markdown",
   "metadata": {},
   "source": [
    "![1_ETe4WrKJ1lS1MKDgBPIM0g.webp](attachment:1_ETe4WrKJ1lS1MKDgBPIM0g.webp)"
   ]
  },
  {
   "cell_type": "code",
   "execution_count": 15,
   "metadata": {},
   "outputs": [],
   "source": [
    "# class block for positional encoding\n",
    "\n",
    "class PositionalEncoding(nn.Module):\n",
    "    def __init__(self, d_model, max_seq_length):\n",
    "        super(PositionalEncoding, self).__init__()\n",
    "        \n",
    "        pe = torch.zeros(max_seq_length, d_model)\n",
    "        position = torch.arange(0, max_seq_length, dtype=torch.float).unsqueeze(1)\n",
    "        div_term = torch.exp(torch.arange(0, d_model, 2).float() * -(math.log(10000.0) / d_model))\n",
    "        \n",
    "        pe[:, 0::2] = torch.sin(position * div_term)\n",
    "        pe[:, 1::2] = torch.cos(position * div_term)\n",
    "        \n",
    "        self.register_buffer('pe', pe.unsqueeze(0))\n",
    "        \n",
    "    def forward(self, x):\n",
    "        return x + self.pe[:, :x.size(1)]"
   ]
  },
  {
   "cell_type": "code",
   "execution_count": 16,
   "metadata": {},
   "outputs": [],
   "source": [
    "# class block for self attention unit\n",
    "\n",
    "class SelfAttention(nn.Module):\n",
    "    def __init__(self, d_model, num_heads):\n",
    "        super(SelfAttention, self).__init__()\n",
    "        \n",
    "        self.d_model = d_model\n",
    "        self.num_heads = num_heads\n",
    "        self.d_k = d_model // num_heads\n",
    "        \n",
    "       \n",
    "        self.W_q = nn.Linear(d_model, d_model)    # torch.nn.Linear(in_features, out_features)\n",
    "        self.W_k = nn.Linear(d_model, d_model)\n",
    "        self.W_v = nn.Linear(d_model, d_model)\n",
    "        self.W_o = nn.Linear(d_model, d_model)\n",
    "        \n",
    "    def scaled_dot_product_attention(self, Q, K, V, mask=None):\n",
    "        attn_scores = torch.matmul(Q, K.transpose(-2, -1)) / math.sqrt(self.d_k)\n",
    "        if mask is not None:\n",
    "            attn_scores = attn_scores.masked_fill(mask == 0, -1e9)\n",
    "        attn_probs = torch.softmax(attn_scores, dim=-1)\n",
    "        output = torch.matmul(attn_probs, V)\n",
    "        return output\n",
    "        \n",
    "    def split_heads(self, x):\n",
    "        batch_size, seq_length, d_model = x.size()\n",
    "        return x.view(batch_size, seq_length, self.num_heads, self.d_k).transpose(1, 2)\n",
    "        \n",
    "    def combine_heads(self, x):\n",
    "        batch_size, _, seq_length, d_k = x.size()\n",
    "        return x.transpose(1, 2).contiguous().view(batch_size, seq_length, self.d_model)\n",
    "        \n",
    "    def forward(self, Q, K, V, mask=None):\n",
    "        Q = self.split_heads(self.W_q(Q))\n",
    "        K = self.split_heads(self.W_k(K))\n",
    "        V = self.split_heads(self.W_v(V))\n",
    "        \n",
    "        attn_output = self.scaled_dot_product_attention(Q, K, V, mask)\n",
    "        output = self.W_o(self.combine_heads(attn_output))\n",
    "        return output"
   ]
  },
  {
   "cell_type": "code",
   "execution_count": 17,
   "metadata": {},
   "outputs": [],
   "source": [
    "# class block for feedforward\n",
    "\n",
    "class PositionWiseFeedForward(nn.Module):\n",
    "    def __init__(self, d_model, d_ff):\n",
    "        super(PositionWiseFeedForward, self).__init__()\n",
    "        self.fc1 = nn.Linear(d_model, d_ff)\n",
    "        self.fc2 = nn.Linear(d_ff, d_model)\n",
    "        self.relu = nn.ReLU()\n",
    "\n",
    "    def forward(self, x):\n",
    "        return self.fc2(self.relu(self.fc1(x)))"
   ]
  },
  {
   "cell_type": "code",
   "execution_count": 48,
   "metadata": {},
   "outputs": [],
   "source": [
    "# class block for encoder layer\n",
    "\n",
    "class EncoderLayer(nn.Module):\n",
    "    def __init__(self, d_model, num_heads, d_ff, dropout):\n",
    "        super(EncoderLayer, self).__init__()\n",
    "        self.self_attn = SelfAttention(d_model, num_heads)\n",
    "        self.feed_forward = PositionWiseFeedForward(d_model, d_ff)\n",
    "        self.norm1 = nn.LayerNorm(d_model)\n",
    "        self.norm2 = nn.LayerNorm(d_model)\n",
    "        self.dropout = nn.Dropout(dropout)\n",
    "        \n",
    "    def forward(self, x, mask):\n",
    "        attn_output = self.self_attn(x, x, x, mask)\n",
    "        x = self.norm1(x + self.dropout(attn_output))\n",
    "        ff_output = self.feed_forward(x)\n",
    "        x = self.norm2(x + self.dropout(ff_output))\n",
    "        return x"
   ]
  },
  {
   "cell_type": "code",
   "execution_count": 49,
   "metadata": {},
   "outputs": [],
   "source": [
    "# class block for decoder layer\n",
    "\n",
    "class DecoderLayer(nn.Module):\n",
    "    def __init__(self, d_model, num_heads, d_ff, dropout):\n",
    "        super(DecoderLayer, self).__init__()\n",
    "        self.self_attn = SelfAttention(d_model, num_heads)\n",
    "        self.cross_attn = SelfAttention(d_model, num_heads)\n",
    "        self.feed_forward = PositionWiseFeedForward(d_model, d_ff)\n",
    "        self.norm1 = nn.LayerNorm(d_model)\n",
    "        self.norm2 = nn.LayerNorm(d_model)\n",
    "        self.norm3 = nn.LayerNorm(d_model)\n",
    "        self.dropout = nn.Dropout(dropout)\n",
    "        \n",
    "    def forward(self, x, enc_output, src_mask, tgt_mask):\n",
    "        attn_output = self.self_attn(x, x, x)\n",
    "        x = self.norm1(x + self.dropout(attn_output))\n",
    "        attn_output = self.cross_attn(x, enc_output, enc_output)\n",
    "        x = self.norm2(x + self.dropout(attn_output))\n",
    "        ff_output = self.feed_forward(x)\n",
    "        x = self.norm3(x + self.dropout(ff_output))\n",
    "        return x"
   ]
  },
  {
   "cell_type": "code",
   "execution_count": 50,
   "metadata": {},
   "outputs": [],
   "source": [
    "# class block for transformer layer\n",
    "\n",
    "class Transformer(nn.Module):\n",
    "    def __init__(self, src_vocab_size, tgt_vocab_size, d_model, num_heads, num_layers, d_ff, max_seq_length, dropout):\n",
    "        super(Transformer, self).__init__()\n",
    "        self.encoder_embedding = nn.Embedding(src_vocab_size, d_model)\n",
    "        self.decoder_embedding = nn.Embedding(tgt_vocab_size, d_model)\n",
    "        self.positional_encoding = PositionalEncoding(d_model, max_seq_length)\n",
    "\n",
    "        self.encoder_layers = nn.ModuleList([EncoderLayer(d_model, num_heads, d_ff, dropout) for _ in range(num_layers)])\n",
    "        self.decoder_layers = nn.ModuleList([DecoderLayer(d_model, num_heads, d_ff, dropout) for _ in range(num_layers)])\n",
    "\n",
    "        self.fc = nn.Linear(d_model, tgt_vocab_size)\n",
    "        self.dropout = nn.Dropout(dropout)\n",
    "\n",
    "    def generate_mask(self, src, tgt):\n",
    "        src_mask = (src != 0).unsqueeze(1).unsqueeze(2)\n",
    "        tgt_mask = (tgt != 0).unsqueeze(1).unsqueeze(3)\n",
    "        seq_length = tgt.size(1)\n",
    "        nopeak_mask = (1 - torch.triu(torch.ones(1, seq_length, seq_length), diagonal=1)).bool()\n",
    "        tgt_mask = tgt_mask & nopeak_mask\n",
    "        return src_mask, tgt_mask\n",
    "\n",
    "    def forward(self, src, tgt):\n",
    "        src_mask, tgt_mask = self.generate_mask(src, tgt)\n",
    "        src_embedded = self.dropout(self.positional_encoding(self.encoder_embedding(src)))\n",
    "        tgt_embedded = self.dropout(self.positional_encoding(self.decoder_embedding(tgt)))\n",
    "\n",
    "        enc_output = src_embedded\n",
    "        for enc_layer in self.encoder_layers:\n",
    "            enc_output = enc_layer(enc_output, src_mask)\n",
    "\n",
    "        dec_output = tgt_embedded\n",
    "        for dec_layer in self.decoder_layers:\n",
    "            dec_output = dec_layer(dec_output, enc_output, src_mask, tgt_mask)\n",
    "\n",
    "        output = self.fc(dec_output)\n",
    "\n",
    "        return output"
   ]
  },
  {
   "cell_type": "code",
   "execution_count": 51,
   "metadata": {},
   "outputs": [],
   "source": [
    "# give parameters for training purpose\n",
    "\n",
    "src_vocab_size = vocab_size_eng + 1\n",
    "tgt_vocab_size = vocab_size_french + 1\n",
    "d_model = 512\n",
    "num_heads = 1\n",
    "num_layers = 1\n",
    "d_ff = 512\n",
    "max_seq_length = 6\n",
    "dropout = 0.2"
   ]
  },
  {
   "cell_type": "code",
   "execution_count": null,
   "metadata": {},
   "outputs": [],
   "source": [
    "# pass all parameters to transformer class\n",
    "\n",
    "transformer = Transformer(src_vocab_size, tgt_vocab_size, d_model, num_heads, num_layers, d_ff, max_seq_length, dropout)"
   ]
  },
  {
   "cell_type": "code",
   "execution_count": 47,
   "metadata": {},
   "outputs": [
    {
     "name": "stdout",
     "output_type": "stream",
     "text": [
      "Epoch: 1, Loss: 3.495068073272705\n",
      "Epoch: 2, Loss: 3.1860110759735107\n",
      "Epoch: 3, Loss: 3.0611572265625\n",
      "Epoch: 4, Loss: 2.873976469039917\n",
      "Epoch: 5, Loss: 2.784407377243042\n",
      "Epoch: 6, Loss: 2.6782991886138916\n",
      "Epoch: 7, Loss: 2.4403412342071533\n",
      "Epoch: 8, Loss: 2.414832592010498\n",
      "Epoch: 9, Loss: 2.278183698654175\n",
      "Epoch: 10, Loss: 2.147040605545044\n"
     ]
    }
   ],
   "source": [
    "# train the model \n",
    "\n",
    "criterion = nn.CrossEntropyLoss(ignore_index=0)\n",
    "optimizer = optim.Adam(transformer.parameters(), lr=0.0001, betas=(0.9, 0.98), eps=1e-9)\n",
    "\n",
    "transformer.train()\n",
    "\n",
    "for epoch in range(10):\n",
    "    optimizer.zero_grad()\n",
    "    output = transformer(src_data, tgt_data[:, :-1])\n",
    "    loss = criterion(output.contiguous().view(-1, tgt_vocab_size), tgt_data[:, 1:].contiguous().view(-1))\n",
    "    loss.backward()\n",
    "    optimizer.step()\n",
    "    print(f\"Epoch: {epoch+1}, Loss: {loss.item()}\")"
   ]
  },
  {
   "cell_type": "code",
   "execution_count": null,
   "metadata": {},
   "outputs": [],
   "source": []
  }
 ],
 "metadata": {
  "kernelspec": {
   "display_name": "tf2.2.0",
   "language": "python",
   "name": "tf2.2.0"
  },
  "language_info": {
   "codemirror_mode": {
    "name": "ipython",
    "version": 3
   },
   "file_extension": ".py",
   "mimetype": "text/x-python",
   "name": "python",
   "nbconvert_exporter": "python",
   "pygments_lexer": "ipython3",
   "version": "3.7.6"
  }
 },
 "nbformat": 4,
 "nbformat_minor": 4
}
